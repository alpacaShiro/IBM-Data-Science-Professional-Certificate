{
 "cells": [
  {
   "cell_type": "markdown",
   "id": "eac2e78f-e405-45bf-b557-50fb6a2f0757",
   "metadata": {},
   "source": [
    "# Module 4: Final Assignment"
   ]
  },
  {
   "cell_type": "markdown",
   "id": "40723080-cd25-4d82-b8e5-5f9cf2ceef5e",
   "metadata": {},
   "source": [
    "First, you'll take on both the role of the client and the data scientist to develop a business problem related to one of the following topics:\n",
    "1. Emails\n",
    "2. Hospitals\n",
    "3. Credit Cards"
   ]
  },
  {
   "cell_type": "markdown",
   "id": "baf12104-6c89-422a-ac4b-ebdfb9548929",
   "metadata": {},
   "source": [
    "You'll use the business problem you defined to demonstrate your knowledge of the Business Understanding stage."
   ]
  },
  {
   "cell_type": "markdown",
   "id": "1ae36d3f-4534-4728-a973-630f911cf196",
   "metadata": {},
   "source": [
    "Then, taking on the role of a data scientist, you'll describe how you would apply data science methodology practices at each of the the listed stages to address the business problem you identified."
   ]
  },
  {
   "cell_type": "markdown",
   "id": "66119063-5b63-4da7-821e-b3ab88159ae5",
   "metadata": {},
   "source": [
    "#### Which topic did you choose to apply the data science methodology to?"
   ]
  },
  {
   "cell_type": "markdown",
   "id": "ddc290e1-2634-402c-ab38-fc4c9330e22a",
   "metadata": {},
   "source": [
    "<u>**Answer:**</u>\n",
    "\n",
    "I chose to apply the data science methodology to *credit cards*.\n",
    "\n",
    "Financial institutions and customers often face credit card fraud. The problem is well-suited for a data-driven solution because of the large volume of transactional data available and the reall for real-time, accurate predictions. Addressing this issue can help companies save currencies, enhance customer trust, and comply with regulations aimed at reducing financial crime."
   ]
  },
  {
   "cell_type": "markdown",
   "id": "625b9bc5",
   "metadata": {},
   "source": [
    "---"
   ]
  },
  {
   "cell_type": "markdown",
   "id": "93409600-4bbd-408f-8d8e-fb5fce8baa51",
   "metadata": {},
   "source": [
    "#### Next, you will play the role of the client and the data scientist. "
   ]
  },
  {
   "cell_type": "markdown",
   "id": "f3787aa7-d240-44b3-baa0-d837d439bd61",
   "metadata": {},
   "source": [
    "Using the topic that you selected, complete the Business Understanding stage by coming up with a problem that you would like to solve and phrasing it in the form of a question that you will use data to answer."
   ]
  },
  {
   "cell_type": "markdown",
   "id": "cb48c8f0-af34-43fd-a64a-9d6facaff55b",
   "metadata": {},
   "source": [
    "You are required to:\n",
    "1. Describe the problem, related to the topic you selected.\n",
    "2. Phrase the problem as a question to be answered using data."
   ]
  },
  {
   "cell_type": "markdown",
   "id": "f9e3a957-e441-4959-8ff1-c160a7b8086a",
   "metadata": {},
   "source": [
    "<u>**Answer:**</u>\n",
    "\n",
    "**Problem:** Credit card fraud poses challenges in distinguishing fraudulent from legitimate transactions due to the high-class imbalance (few fraudulent transactions compared to legitimate ones). Current fraud detection methods generate false positives that inconvenience customers while missing some fraudulent transactions.\n",
    "\n",
    "**Question:** *How can we design a fraud detection system that identifies fraudulent transactions in real time with high accuracy while minimizing false positives?*"
   ]
  },
  {
   "cell_type": "markdown",
   "id": "33683bdb",
   "metadata": {},
   "source": [
    "---"
   ]
  },
  {
   "cell_type": "markdown",
   "id": "3090e832-5de0-4b36-9346-dcf1995e4d30",
   "metadata": {},
   "source": [
    "#### Business Understanding"
   ]
  },
  {
   "cell_type": "markdown",
   "id": "d77c06dc-de08-4bf5-9522-e2b13ccca27e",
   "metadata": {},
   "source": [
    "Briefly explain how you would complete each of the following stages for the problem that you described in the Business Understanding stage, so that you are ultimately able to answer the question that you came up with.\n",
    "1. Analytic Approach\n",
    "2. Data Requirements\n",
    "3. Data Collection\n",
    "4. Data Understanding and Preparation\n",
    "5. Modeling and Evaluation"
   ]
  },
  {
   "cell_type": "markdown",
   "id": "04e52be6-4e26-4351-9b41-b65b9fb7cb6c",
   "metadata": {},
   "source": [
    "<u>**Answer:**</u>\n",
    "\n",
    "1. **Analytic Approach:** To address the problem, we’ll adopt a predictive modeling approach. The goal is to classify transactions as fraudulent or legitimate based on historical data.\n",
    "\n",
    "- *Type of Analytics:* Supervised learning, specifically binary classification.\n",
    "- *Desired Output:* A model that assigns a probability score to each transaction, allowing it to be flagged as fraudulent or legitimate.\n",
    "\n",
    "2. **Data Requirements:** Identify the data attributes needed for the model:\n",
    "\n",
    "- *Transaction Details:* Transaction amount, timestamp, merchant category, location.\n",
    "- *Customer Behavior:* Frequency of transactions, average spending patterns, typical locations.\n",
    "- *Fraud Markers:* Historical labels indicating whether a transaction was fraudulent.\n",
    "- *Device/Network Data:* IP address, device type, and geolocation.\n",
    "\n",
    "3. **Data Collection:** Data sources include:\n",
    "\n",
    "- *Internal Bank Records:* Historical transaction logs with fraud labels.\n",
    "- *External Data:* Industry benchmarks for fraud detection, such as blacklisted IPs or suspicious merchants.\n",
    "- *Real-Time Streams:* Data from customer transactions as they occur.\n",
    "\n",
    "4. **Data Understanding and Preparation:**\n",
    "- *Data Understanding:*\n",
    "   - Perform exploratory data analysis (EDA) to identify trends, correlations, and anomalies.\n",
    "   - Handle challenges like class imbalance by examining the ratio of fraudulent to legitimate transactions.\n",
    "- *Data Preparation:*\n",
    "   - *Cleaning:* Remove duplicate transactions, fix missing or inconsistent values.\n",
    "   - *Transformation:* Normalize transaction amounts, encode categorical variables (e.g., merchant categories).\n",
    "   - *Feature Engineering:*\n",
    "      - Create features like \"average spending per hour\" or \"distance between transaction locations.\"\n",
    "      - Use time-based features like \"transactions within the last 5 minutes.\"\n",
    "- *Balancing the Dataset:* Use oversampling (e.g., SMOTE) or undersampling techniques to address the class imbalance.\n",
    "\n",
    "5. **Modeling and Evaluation:**\n",
    "- *Modeling:*\n",
    "   - *Algorithms:* Random forests, gradient boosting (XGBoost/LightGBM), or deep learning models (e.g., neural networks for large datasets).\n",
    "   - Train multiple models and use grid search or Bayesian optimization to tune hyperparameters.\n",
    "   - Ensemble methods could combine models for better accuracy.\n",
    "- *Evaluation:*\n",
    "   - *Metrics:* Focus on precision, recall, and F1-score to balance false positives and false negatives.\n",
    "   - *Confusion matrix:* Analyze true positives, false positives, false negatives, and true negatives.\n",
    "   - *AUC-ROC curve:* Assess the trade-off between sensitivity and specificity."
   ]
  },
  {
   "cell_type": "markdown",
   "id": "c8dfb3db",
   "metadata": {},
   "source": [
    "---"
   ]
  }
 ],
 "metadata": {
  "kernelspec": {
   "display_name": "Python 3 (ipykernel)",
   "language": "python",
   "name": "python3"
  },
  "language_info": {
   "codemirror_mode": {
    "name": "ipython",
    "version": 3
   },
   "file_extension": ".py",
   "mimetype": "text/x-python",
   "name": "python",
   "nbconvert_exporter": "python",
   "pygments_lexer": "ipython3",
   "version": "3.12.1"
  }
 },
 "nbformat": 4,
 "nbformat_minor": 5
}
